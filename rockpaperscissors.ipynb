{
  "cells": [
    {
      "cell_type": "markdown",
      "metadata": {
        "id": "JLLcEymlgRfU"
      },
      "source": [
        "## **PROFILE**\n",
        "NAMA : ECHA APRILIYANTO \\\n",
        "DOMISILI : KABUPATEN SLEMAN \\\n",
        "TAHUN BERGABUNG : 2022 \\\n",
        "PROFILE DICODING : https://www.dicoding.com/users/echa_apriliyanto_z/academies\n"
      ]
    },
    {
      "cell_type": "markdown",
      "metadata": {
        "id": "KID5jJdGhUOB"
      },
      "source": [
        "## DATASET SPLIT"
      ]
    },
    {
      "cell_type": "code",
      "execution_count": 26,
      "metadata": {
        "id": "2F_JvumIGEEg"
      },
      "outputs": [],
      "source": [
        "import os\n",
        "\n",
        "if not os.path.exists('/content/submission'):\n",
        "  os.makedirs('/content/submission')"
      ]
    },
    {
      "cell_type": "code",
      "execution_count": 27,
      "metadata": {
        "colab": {
          "base_uri": "https://localhost:8080/"
        },
        "id": "AXtHWiMHcEM8",
        "outputId": "02ea0f61-0d62-41ce-89ee-7166f88a307f"
      },
      "outputs": [
        {
          "name": "stderr",
          "output_type": "stream",
          "text": [
            "'wget' is not recognized as an internal or external command,\n",
            "operable program or batch file.\n"
          ]
        }
      ],
      "source": [
        "!wget --no-check-certificate \\\n",
        "  https://github.com/dicodingacademy/assets/releases/download/release/rockpaperscissors.zip \\\n",
        "  -O /content/submission/rockpaperscissors.zip"
      ]
    },
    {
      "cell_type": "code",
      "execution_count": 28,
      "metadata": {
        "id": "Ig1Wj2txcoRc"
      },
      "outputs": [
        {
          "ename": "FileNotFoundError",
          "evalue": "[Errno 2] No such file or directory: '/content/submission/rockpaperscissors.zip'",
          "output_type": "error",
          "traceback": [
            "\u001b[1;31m---------------------------------------------------------------------------\u001b[0m",
            "\u001b[1;31mFileNotFoundError\u001b[0m                         Traceback (most recent call last)",
            "Cell \u001b[1;32mIn[28], line 4\u001b[0m\n\u001b[0;32m      1\u001b[0m \u001b[38;5;28;01mimport\u001b[39;00m \u001b[38;5;21;01mzipfile\u001b[39;00m\n\u001b[0;32m      3\u001b[0m zip_path \u001b[38;5;241m=\u001b[39m \u001b[38;5;124m'\u001b[39m\u001b[38;5;124m/content/submission/rockpaperscissors.zip\u001b[39m\u001b[38;5;124m'\u001b[39m\n\u001b[1;32m----> 4\u001b[0m zip_ref \u001b[38;5;241m=\u001b[39m \u001b[43mzipfile\u001b[49m\u001b[38;5;241;43m.\u001b[39;49m\u001b[43mZipFile\u001b[49m\u001b[43m(\u001b[49m\u001b[43mzip_path\u001b[49m\u001b[43m,\u001b[49m\u001b[43m \u001b[49m\u001b[38;5;124;43m'\u001b[39;49m\u001b[38;5;124;43mr\u001b[39;49m\u001b[38;5;124;43m'\u001b[39;49m\u001b[43m)\u001b[49m\n\u001b[0;32m      5\u001b[0m zip_ref\u001b[38;5;241m.\u001b[39mextractall(\u001b[38;5;124m'\u001b[39m\u001b[38;5;124m/content/submission\u001b[39m\u001b[38;5;124m'\u001b[39m)\n\u001b[0;32m      6\u001b[0m zip_ref\u001b[38;5;241m.\u001b[39mclose()\n",
            "File \u001b[1;32mc:\\Users\\april\\AppData\\Local\\Programs\\Python\\Python311\\Lib\\zipfile.py:1281\u001b[0m, in \u001b[0;36mZipFile.__init__\u001b[1;34m(self, file, mode, compression, allowZip64, compresslevel, strict_timestamps, metadata_encoding)\u001b[0m\n\u001b[0;32m   1279\u001b[0m \u001b[38;5;28;01mwhile\u001b[39;00m \u001b[38;5;28;01mTrue\u001b[39;00m:\n\u001b[0;32m   1280\u001b[0m     \u001b[38;5;28;01mtry\u001b[39;00m:\n\u001b[1;32m-> 1281\u001b[0m         \u001b[38;5;28mself\u001b[39m\u001b[38;5;241m.\u001b[39mfp \u001b[38;5;241m=\u001b[39m io\u001b[38;5;241m.\u001b[39mopen(file, filemode)\n\u001b[0;32m   1282\u001b[0m     \u001b[38;5;28;01mexcept\u001b[39;00m \u001b[38;5;167;01mOSError\u001b[39;00m:\n\u001b[0;32m   1283\u001b[0m         \u001b[38;5;28;01mif\u001b[39;00m filemode \u001b[38;5;129;01min\u001b[39;00m modeDict:\n",
            "\u001b[1;31mFileNotFoundError\u001b[0m: [Errno 2] No such file or directory: '/content/submission/rockpaperscissors.zip'"
          ]
        }
      ],
      "source": [
        "import zipfile\n",
        "\n",
        "zip_path = '/content/submission/rockpaperscissors.zip'\n",
        "zip_ref = zipfile.ZipFile(zip_path, 'r')\n",
        "zip_ref.extractall('/content/submission')\n",
        "zip_ref.close()"
      ]
    },
    {
      "cell_type": "code",
      "execution_count": 25,
      "metadata": {
        "id": "jtKfuLp7gQW-"
      },
      "outputs": [
        {
          "ename": "FileNotFoundError",
          "evalue": "[WinError 3] The system cannot find the path specified: './content/submission/rockpaperscissors\\\\rock'",
          "output_type": "error",
          "traceback": [
            "\u001b[1;31m---------------------------------------------------------------------------\u001b[0m",
            "\u001b[1;31mFileNotFoundError\u001b[0m                         Traceback (most recent call last)",
            "Cell \u001b[1;32mIn[25], line 35\u001b[0m\n\u001b[0;32m     32\u001b[0m         shutil\u001b[38;5;241m.\u001b[39mcopy(os\u001b[38;5;241m.\u001b[39mpath\u001b[38;5;241m.\u001b[39mjoin(class_path, f), os\u001b[38;5;241m.\u001b[39mpath\u001b[38;5;241m.\u001b[39mjoin(dest_folder, f))\n\u001b[0;32m     34\u001b[0m \u001b[38;5;28;01mfor\u001b[39;00m class_name \u001b[38;5;129;01min\u001b[39;00m classes:\n\u001b[1;32m---> 35\u001b[0m   \u001b[43msplit_data\u001b[49m\u001b[43m(\u001b[49m\u001b[43mclass_name\u001b[49m\u001b[43m)\u001b[49m\n",
            "Cell \u001b[1;32mIn[25], line 19\u001b[0m, in \u001b[0;36msplit_data\u001b[1;34m(class_name)\u001b[0m\n\u001b[0;32m     17\u001b[0m \u001b[38;5;28;01mdef\u001b[39;00m \u001b[38;5;21msplit_data\u001b[39m(class_name):\n\u001b[0;32m     18\u001b[0m   class_path \u001b[38;5;241m=\u001b[39m os\u001b[38;5;241m.\u001b[39mpath\u001b[38;5;241m.\u001b[39mjoin(base_dir, class_name)\n\u001b[1;32m---> 19\u001b[0m   imgs_list \u001b[38;5;241m=\u001b[39m [filename \u001b[38;5;28;01mfor\u001b[39;00m filename \u001b[38;5;129;01min\u001b[39;00m \u001b[43mos\u001b[49m\u001b[38;5;241;43m.\u001b[39;49m\u001b[43mlistdir\u001b[49m\u001b[43m(\u001b[49m\u001b[43mclass_path\u001b[49m\u001b[43m)\u001b[49m \u001b[38;5;28;01mif\u001b[39;00m os\u001b[38;5;241m.\u001b[39mpath\u001b[38;5;241m.\u001b[39msplitext(filename)[\u001b[38;5;241m-\u001b[39m\u001b[38;5;241m1\u001b[39m]\u001b[38;5;241m.\u001b[39mlower() \u001b[38;5;129;01min\u001b[39;00m image_extensions]\n\u001b[0;32m     21\u001b[0m   random\u001b[38;5;241m.\u001b[39mseed(\u001b[38;5;241m42\u001b[39m)\n\u001b[0;32m     22\u001b[0m   random\u001b[38;5;241m.\u001b[39mshuffle(imgs_list)\n",
            "\u001b[1;31mFileNotFoundError\u001b[0m: [WinError 3] The system cannot find the path specified: './content/submission/rockpaperscissors\\\\rock'"
          ]
        }
      ],
      "source": [
        "import shutil\n",
        "import random\n",
        "\n",
        "classes = ['rock', 'paper', 'scissors']\n",
        "image_extensions = ['.jpg', '.jpeg', '.png', '.bmp']\n",
        "\n",
        "base_dir = '/content/submission/rockpaperscissors'\n",
        "train_dir = os.path.join(base_dir, 'train')\n",
        "val_dir = os.path.join(base_dir, 'val')\n",
        "\n",
        "for class_name in classes:\n",
        "  for folder_name in [train_dir, val_dir]:\n",
        "    class_folder_path = os.path.join(folder_name, class_name)\n",
        "    if not os.path.exists(class_folder_path):\n",
        "      os.makedirs(class_folder_path)\n",
        "\n",
        "def split_data(class_name):\n",
        "  class_path = os.path.join(base_dir, class_name)\n",
        "  imgs_list = [filename for filename in os.listdir(class_path) if os.path.splitext(filename)[-1].lower() in image_extensions]\n",
        "\n",
        "  random.seed(42)\n",
        "  random.shuffle(imgs_list)\n",
        "\n",
        "  val_size = int(len(imgs_list) * 0.4)\n",
        "  train_size = len(imgs_list) - val_size\n",
        "\n",
        "  for i, f in enumerate(imgs_list):\n",
        "        if i < train_size:\n",
        "            dest_folder = os.path.join(train_dir, class_name)\n",
        "        else:\n",
        "            dest_folder = os.path.join(val_dir, class_name)\n",
        "        shutil.copy(os.path.join(class_path, f), os.path.join(dest_folder, f))\n",
        "\n",
        "for class_name in classes:\n",
        "  split_data(class_name)\n"
      ]
    },
    {
      "cell_type": "code",
      "execution_count": 187,
      "metadata": {
        "colab": {
          "base_uri": "https://localhost:8080/"
        },
        "id": "48rhxW0-taM7",
        "outputId": "dc0c4399-d35f-4aaa-e650-a731933ddf4f"
      },
      "outputs": [
        {
          "name": "stdout",
          "output_type": "stream",
          "text": [
            "Training data: 1314\n",
            "Validation data: 874\n"
          ]
        }
      ],
      "source": [
        "train_total = 0\n",
        "val_total = 0\n",
        "\n",
        "for class_name in classes:\n",
        "  train_total += len(os.listdir(os.path.join(base_dir, 'train', class_name)))\n",
        "  val_total += len(os.listdir(os.path.join(base_dir, 'val', class_name)))\n",
        "\n",
        "print(f'Training data: {train_total}')\n",
        "print(f'Validation data: {val_total}')"
      ]
    },
    {
      "cell_type": "code",
      "execution_count": 188,
      "metadata": {
        "colab": {
          "base_uri": "https://localhost:8080/"
        },
        "id": "X76vpZDivkzG",
        "outputId": "9e787f3b-01e1-461e-ca7c-3611cbbaaffa"
      },
      "outputs": [
        {
          "name": "stdout",
          "output_type": "stream",
          "text": [
            "Images existing in both train and validation folders: []\n",
            "Total number of common images: 0\n"
          ]
        }
      ],
      "source": [
        "common_images = []\n",
        "\n",
        "for class_name in classes:\n",
        "    train_images = set(os.listdir(os.path.join(train_dir, class_name)))\n",
        "    val_images = set(os.listdir(os.path.join(val_dir, class_name)))\n",
        "\n",
        "    common = train_images.intersection(val_images)\n",
        "    if common:\n",
        "        common_images.extend([os.path.join(class_name, img) for img in common])\n",
        "\n",
        "print(f'Images existing in both train and validation folders: {common_images}')\n",
        "print(f'Total number of common images: {len(common_images)}')"
      ]
    },
    {
      "cell_type": "markdown",
      "metadata": {
        "id": "PWlLrR1PyDzS"
      },
      "source": [
        "## CNN MODEL"
      ]
    },
    {
      "cell_type": "code",
      "execution_count": 189,
      "metadata": {
        "colab": {
          "base_uri": "https://localhost:8080/"
        },
        "id": "OsRriC26zWdU",
        "outputId": "43b1862c-8f0e-4a79-ba23-c8664c10f0e5"
      },
      "outputs": [
        {
          "name": "stdout",
          "output_type": "stream",
          "text": [
            "2.15.0\n"
          ]
        }
      ],
      "source": [
        "import tensorflow as tf\n",
        "print(tf.__version__)"
      ]
    },
    {
      "cell_type": "code",
      "execution_count": 190,
      "metadata": {
        "id": "AnrEooqXyH7I"
      },
      "outputs": [],
      "source": [
        "from tensorflow.keras.preprocessing.image import ImageDataGenerator\n",
        "\n",
        "batch_size = 32\n",
        "\n",
        "train_datagen = ImageDataGenerator(\n",
        "    rescale=1./255,\n",
        "    rotation_range=40,\n",
        "    width_shift_range=0.2,\n",
        "    height_shift_range=0.2,\n",
        "    shear_range=0.2,\n",
        "    zoom_range=0.2,\n",
        "    horizontal_flip=True,\n",
        "    vertical_flip=True,\n",
        "    fill_mode='reflect'\n",
        "    )\n",
        "\n",
        "val_datagen = ImageDataGenerator(rescale=1./255)"
      ]
    },
    {
      "cell_type": "code",
      "execution_count": 191,
      "metadata": {
        "colab": {
          "base_uri": "https://localhost:8080/"
        },
        "id": "mDm9Sxbv0FgN",
        "outputId": "9db8bc57-d1d1-46db-dc30-e80186ce31ee"
      },
      "outputs": [
        {
          "name": "stdout",
          "output_type": "stream",
          "text": [
            "Found 1314 images belonging to 3 classes.\n",
            "Found 874 images belonging to 3 classes.\n"
          ]
        }
      ],
      "source": [
        "train_generator = train_datagen.flow_from_directory(\n",
        "        train_dir,\n",
        "        batch_size=batch_size,\n",
        "        seed=42,\n",
        "        class_mode='categorical',\n",
        "        color_mode='rgb',\n",
        "        target_size=(150,150)\n",
        "        )\n",
        "\n",
        "validation_generator = val_datagen.flow_from_directory(\n",
        "        val_dir,\n",
        "        batch_size=batch_size,\n",
        "        seed=42,\n",
        "        class_mode='categorical',\n",
        "        color_mode='rgb',\n",
        "        target_size=(150,150)\n",
        "        )"
      ]
    },
    {
      "cell_type": "code",
      "execution_count": 192,
      "metadata": {
        "id": "q-tf7hVt9xVZ"
      },
      "outputs": [],
      "source": [
        "from tensorflow.keras.models import Sequential\n",
        "from tensorflow.keras.layers import Conv2D, MaxPooling2D, Flatten, Dense\n",
        "from tensorflow.keras.activations import relu, softmax\n",
        "\n",
        "model = Sequential([\n",
        "    Conv2D(32, (3, 3), activation=relu, input_shape=(150, 150, 3)),\n",
        "    MaxPooling2D(2, 2),\n",
        "    Conv2D(32, (3, 3), activation=relu),\n",
        "    MaxPooling2D(2, 2),\n",
        "    Conv2D(128, (3, 3), activation=relu),\n",
        "    MaxPooling2D(2, 2),\n",
        "    Conv2D(256, (3, 3), activation=relu),\n",
        "    MaxPooling2D(2, 2),\n",
        "    Flatten(),\n",
        "    Dense(624, activation=relu),\n",
        "    Dense(128, activation=relu),\n",
        "    Dense(3, activation=softmax)\n",
        "    ])"
      ]
    },
    {
      "cell_type": "code",
      "execution_count": 193,
      "metadata": {
        "colab": {
          "base_uri": "https://localhost:8080/"
        },
        "id": "EHqTo5Ci_VBE",
        "outputId": "dba032b8-f712-4516-d0e5-e84732dea205"
      },
      "outputs": [
        {
          "name": "stdout",
          "output_type": "stream",
          "text": [
            "Model: \"sequential_23\"\n",
            "_________________________________________________________________\n",
            " Layer (type)                Output Shape              Param #   \n",
            "=================================================================\n",
            " conv2d_93 (Conv2D)          (None, 148, 148, 32)      896       \n",
            "                                                                 \n",
            " max_pooling2d_93 (MaxPooli  (None, 74, 74, 32)        0         \n",
            " ng2D)                                                           \n",
            "                                                                 \n",
            " conv2d_94 (Conv2D)          (None, 72, 72, 32)        9248      \n",
            "                                                                 \n",
            " max_pooling2d_94 (MaxPooli  (None, 36, 36, 32)        0         \n",
            " ng2D)                                                           \n",
            "                                                                 \n",
            " conv2d_95 (Conv2D)          (None, 34, 34, 128)       36992     \n",
            "                                                                 \n",
            " max_pooling2d_95 (MaxPooli  (None, 17, 17, 128)       0         \n",
            " ng2D)                                                           \n",
            "                                                                 \n",
            " conv2d_96 (Conv2D)          (None, 15, 15, 256)       295168    \n",
            "                                                                 \n",
            " max_pooling2d_96 (MaxPooli  (None, 7, 7, 256)         0         \n",
            " ng2D)                                                           \n",
            "                                                                 \n",
            " flatten_23 (Flatten)        (None, 12544)             0         \n",
            "                                                                 \n",
            " dense_71 (Dense)            (None, 624)               7828080   \n",
            "                                                                 \n",
            " dense_72 (Dense)            (None, 128)               80000     \n",
            "                                                                 \n",
            " dense_73 (Dense)            (None, 3)                 387       \n",
            "                                                                 \n",
            "=================================================================\n",
            "Total params: 8250771 (31.47 MB)\n",
            "Trainable params: 8250771 (31.47 MB)\n",
            "Non-trainable params: 0 (0.00 Byte)\n",
            "_________________________________________________________________\n"
          ]
        }
      ],
      "source": [
        "model.summary()"
      ]
    },
    {
      "cell_type": "code",
      "execution_count": 194,
      "metadata": {
        "id": "WvCYMkij_3Pw"
      },
      "outputs": [],
      "source": [
        "model.compile(loss='categorical_crossentropy',\n",
        "              optimizer=tf.optimizers.RMSprop(),\n",
        "              metrics=['accuracy'])"
      ]
    },
    {
      "cell_type": "code",
      "execution_count": 195,
      "metadata": {
        "colab": {
          "base_uri": "https://localhost:8080/"
        },
        "id": "77QDcD_hAfSG",
        "outputId": "919618b5-5bc3-47aa-d08d-29b4191e94d2"
      },
      "outputs": [
        {
          "name": "stdout",
          "output_type": "stream",
          "text": [
            "Epoch 1/40\n",
            "22/22 [==============================] - 44s 2s/step - loss: 1.1302 - accuracy: 0.3324 - val_loss: 1.1242 - val_accuracy: 0.2917 - lr: 0.0010\n",
            "Epoch 2/40\n",
            "22/22 [==============================] - 39s 2s/step - loss: 1.1011 - accuracy: 0.3409 - val_loss: 1.0784 - val_accuracy: 0.5104 - lr: 0.0010\n",
            "Epoch 3/40\n",
            "22/22 [==============================] - 37s 2s/step - loss: 1.0856 - accuracy: 0.4169 - val_loss: 1.0375 - val_accuracy: 0.5417 - lr: 0.0010\n",
            "Epoch 4/40\n",
            "22/22 [==============================] - 38s 2s/step - loss: 1.0630 - accuracy: 0.4588 - val_loss: 0.8052 - val_accuracy: 0.7396 - lr: 0.0010\n",
            "Epoch 5/40\n",
            "22/22 [==============================] - 36s 2s/step - loss: 1.0168 - accuracy: 0.5816 - val_loss: 0.6702 - val_accuracy: 0.8021 - lr: 0.0010\n",
            "Epoch 6/40\n",
            "22/22 [==============================] - 34s 2s/step - loss: 0.7621 - accuracy: 0.6558 - val_loss: 0.3294 - val_accuracy: 0.9479 - lr: 0.0010\n",
            "Epoch 7/40\n",
            "22/22 [==============================] - 36s 2s/step - loss: 0.7165 - accuracy: 0.6944 - val_loss: 0.3122 - val_accuracy: 0.8750 - lr: 0.0010\n",
            "Epoch 8/40\n",
            "22/22 [==============================] - 36s 2s/step - loss: 0.6266 - accuracy: 0.7507 - val_loss: 0.4173 - val_accuracy: 0.8229 - lr: 0.0010\n",
            "Epoch 9/40\n",
            "22/22 [==============================] - 38s 2s/step - loss: 0.6406 - accuracy: 0.7301 - val_loss: 0.4584 - val_accuracy: 0.8438 - lr: 0.0010\n",
            "Epoch 10/40\n",
            "22/22 [==============================] - 36s 2s/step - loss: 0.6183 - accuracy: 0.7300 - val_loss: 0.2798 - val_accuracy: 0.9271 - lr: 0.0010\n",
            "Epoch 11/40\n",
            "22/22 [==============================] - 36s 2s/step - loss: 0.5393 - accuracy: 0.7715 - val_loss: 0.2594 - val_accuracy: 0.9167 - lr: 0.0010\n",
            "Epoch 12/40\n",
            "22/22 [==============================] - 38s 2s/step - loss: 0.5007 - accuracy: 0.7841 - val_loss: 0.2354 - val_accuracy: 0.9271 - lr: 0.0010\n",
            "Epoch 13/40\n",
            "22/22 [==============================] - 37s 2s/step - loss: 0.5021 - accuracy: 0.7983 - val_loss: 0.3486 - val_accuracy: 0.8646 - lr: 0.0010\n",
            "Epoch 14/40\n",
            "22/22 [==============================] - 36s 2s/step - loss: 0.4443 - accuracy: 0.8175 - val_loss: 0.1149 - val_accuracy: 0.9688 - lr: 0.0010\n",
            "Epoch 15/40\n",
            "22/22 [==============================] - 37s 2s/step - loss: 0.4931 - accuracy: 0.7953 - val_loss: 0.1569 - val_accuracy: 0.9688 - lr: 0.0010\n",
            "Epoch 16/40\n",
            "22/22 [==============================] - 38s 2s/step - loss: 0.4347 - accuracy: 0.8310 - val_loss: 0.0780 - val_accuracy: 0.9896 - lr: 0.0010\n",
            "Epoch 17/40\n",
            "22/22 [==============================] - 35s 2s/step - loss: 0.3798 - accuracy: 0.8501 - val_loss: 0.1089 - val_accuracy: 0.9688 - lr: 0.0010\n",
            "Epoch 18/40\n",
            "22/22 [==============================] - 36s 2s/step - loss: 0.3233 - accuracy: 0.8769 - val_loss: 0.2526 - val_accuracy: 0.9062 - lr: 0.0010\n",
            "Epoch 19/40\n",
            "22/22 [==============================] - 37s 2s/step - loss: 0.4177 - accuracy: 0.8338 - val_loss: 0.2017 - val_accuracy: 0.9583 - lr: 0.0010\n",
            "Epoch 20/40\n",
            "22/22 [==============================] - 38s 2s/step - loss: 0.2704 - accuracy: 0.8991 - val_loss: 0.3134 - val_accuracy: 0.8750 - lr: 0.0010\n",
            "Epoch 21/40\n",
            "22/22 [==============================] - 38s 2s/step - loss: 0.2236 - accuracy: 0.9219 - val_loss: 0.9388 - val_accuracy: 0.7500 - lr: 0.0010\n",
            "Epoch 22/40\n",
            "22/22 [==============================] - 35s 2s/step - loss: 0.3065 - accuracy: 0.9036 - val_loss: 0.1245 - val_accuracy: 0.9583 - lr: 0.0010\n",
            "Epoch 23/40\n",
            "22/22 [==============================] - 37s 2s/step - loss: 0.1963 - accuracy: 0.9303 - val_loss: 0.0326 - val_accuracy: 0.9896 - lr: 0.0010\n",
            "Epoch 24/40\n",
            "22/22 [==============================] - 37s 2s/step - loss: 0.2391 - accuracy: 0.9247 - val_loss: 0.0400 - val_accuracy: 0.9896 - lr: 0.0010\n",
            "Epoch 25/40\n",
            "22/22 [==============================] - 36s 2s/step - loss: 0.1557 - accuracy: 0.9389 - val_loss: 0.1652 - val_accuracy: 0.9479 - lr: 0.0010\n",
            "Epoch 26/40\n",
            "22/22 [==============================] - 37s 2s/step - loss: 0.2228 - accuracy: 0.9148 - val_loss: 0.0561 - val_accuracy: 0.9792 - lr: 0.0010\n",
            "Epoch 27/40\n",
            "22/22 [==============================] - 36s 2s/step - loss: 0.1526 - accuracy: 0.9496 - val_loss: 0.0974 - val_accuracy: 0.9792 - lr: 0.0010\n",
            "Epoch 28/40\n",
            "22/22 [==============================] - 36s 2s/step - loss: 0.1876 - accuracy: 0.9347 - val_loss: 0.0193 - val_accuracy: 1.0000 - lr: 0.0010\n",
            "Epoch 29/40\n",
            "22/22 [==============================] - 36s 2s/step - loss: 0.2092 - accuracy: 0.9258 - val_loss: 0.0843 - val_accuracy: 0.9792 - lr: 0.0010\n",
            "Epoch 30/40\n",
            "22/22 [==============================] - 38s 2s/step - loss: 0.1181 - accuracy: 0.9659 - val_loss: 0.0455 - val_accuracy: 0.9688 - lr: 0.0010\n",
            "Epoch 31/40\n",
            "22/22 [==============================] - 38s 2s/step - loss: 0.1468 - accuracy: 0.9503 - val_loss: 0.0054 - val_accuracy: 1.0000 - lr: 0.0010\n",
            "Epoch 32/40\n",
            "22/22 [==============================] - 38s 2s/step - loss: 0.1434 - accuracy: 0.9517 - val_loss: 0.2096 - val_accuracy: 0.9375 - lr: 0.0010\n",
            "Epoch 33/40\n",
            "22/22 [==============================] - 35s 2s/step - loss: 0.0860 - accuracy: 0.9748 - val_loss: 0.0177 - val_accuracy: 0.9896 - lr: 0.0010\n",
            "Epoch 34/40\n",
            "22/22 [==============================] - 35s 2s/step - loss: 0.1047 - accuracy: 0.9718 - val_loss: 0.0017 - val_accuracy: 1.0000 - lr: 0.0010\n",
            "Epoch 35/40\n",
            "22/22 [==============================] - 37s 2s/step - loss: 0.1598 - accuracy: 0.9474 - val_loss: 0.0573 - val_accuracy: 0.9792 - lr: 0.0010\n",
            "Epoch 36/40\n",
            "22/22 [==============================] - 36s 2s/step - loss: 0.1046 - accuracy: 0.9688 - val_loss: 0.0563 - val_accuracy: 0.9792 - lr: 0.0010\n",
            "Epoch 37/40\n",
            "22/22 [==============================] - 36s 2s/step - loss: 0.0982 - accuracy: 0.9631 - val_loss: 0.0244 - val_accuracy: 0.9896 - lr: 0.0010\n",
            "Epoch 38/40\n",
            "22/22 [==============================] - 35s 2s/step - loss: 0.1452 - accuracy: 0.9540 - val_loss: 0.0956 - val_accuracy: 0.9688 - lr: 0.0010\n",
            "Epoch 39/40\n",
            "22/22 [==============================] - 35s 2s/step - loss: 0.1276 - accuracy: 0.9599 - val_loss: 0.2119 - val_accuracy: 0.9375 - lr: 0.0010\n",
            "Epoch 40/40\n",
            "22/22 [==============================] - 38s 2s/step - loss: 0.0607 - accuracy: 0.9844 - val_loss: 0.0806 - val_accuracy: 0.9792 - lr: 0.0010\n",
            "Total training time: 27.52 minutes\n"
          ]
        }
      ],
      "source": [
        "from tensorflow.keras.callbacks import ModelCheckpoint, EarlyStopping, ReduceLROnPlateau\n",
        "import time\n",
        "\n",
        "callbacks = [\n",
        "    ModelCheckpoint(filepath='/content/submission/best_model.keras', monitor='val_accuracy', save_best_only=True),\n",
        "    EarlyStopping(monitor='val_loss', patience=10, restore_best_weights=True),\n",
        "    ReduceLROnPlateau(monitor='val_loss', factor=0.1, patience=8, min_lr=1e-5)\n",
        "    ]\n",
        "\n",
        "start_time = time.time()\n",
        "\n",
        "history = model.fit(\n",
        "    train_generator,\n",
        "    steps_per_epoch=22,\n",
        "    epochs=40,\n",
        "    validation_data=validation_generator,\n",
        "    validation_steps=3,\n",
        "    callbacks=callbacks\n",
        "    )\n",
        "\n",
        "end_time = time.time()\n",
        "\n",
        "training_time_seconds = end_time - start_time\n",
        "training_time_minutes = training_time_seconds / 60\n",
        "\n",
        "print(f\"Total training time: {training_time_minutes:.2f} minutes\")"
      ]
    },
    {
      "cell_type": "markdown",
      "metadata": {
        "id": "WWNiNM62B4Ca"
      },
      "source": [
        "## MODEL EVALUATION"
      ]
    },
    {
      "cell_type": "code",
      "execution_count": 197,
      "metadata": {
        "colab": {
          "base_uri": "https://localhost:8080/"
        },
        "id": "Kw83Ac4iB3nw",
        "outputId": "71acea48-9ebe-45c0-dfa6-8274372e853e"
      },
      "outputs": [
        {
          "name": "stdout",
          "output_type": "stream",
          "text": [
            "42/42 [==============================] - 26s 606ms/step - loss: 0.0805 - accuracy: 0.9673\n",
            "Model Performance on Training Data\n",
            "Accuracy: 96.73%\n",
            "Loss: 0.0805\n"
          ]
        }
      ],
      "source": [
        "results = model.evaluate(train_generator, batch_size=batch_size)\n",
        "print('Model Performance on Training Data')\n",
        "print('Accuracy: {:.2f}%'.format(results[1]*100))\n",
        "print('Loss: {:.4f}'.format(results[0]))"
      ]
    },
    {
      "cell_type": "code",
      "execution_count": 198,
      "metadata": {
        "colab": {
          "base_uri": "https://localhost:8080/"
        },
        "id": "2bYFgLu9Ct_G",
        "outputId": "83f6a2dc-eb8b-4279-c7f9-903b6c8962b6"
      },
      "outputs": [
        {
          "name": "stdout",
          "output_type": "stream",
          "text": [
            "28/28 [==============================] - 12s 420ms/step - loss: 0.0276 - accuracy: 0.9897\n",
            "Model Performance on Validation Data\n",
            "Accuracy: 98.97%\n",
            "Loss: 0.0276\n"
          ]
        }
      ],
      "source": [
        "results = model.evaluate(validation_generator, batch_size=batch_size)\n",
        "print('Model Performance on Validation Data')\n",
        "print('Accuracy: {:.2f}%'.format(results[1]*100))\n",
        "print('Loss: {:.4f}'.format(results[0]))"
      ]
    },
    {
      "cell_type": "markdown",
      "metadata": {
        "id": "fHepO6Z0EXpJ"
      },
      "source": [
        "## PLOT"
      ]
    },
    {
      "cell_type": "code",
      "execution_count": 199,
      "metadata": {
        "colab": {
          "base_uri": "https://localhost:8080/",
          "height": 927
        },
        "id": "ltLWqE3PBpcu",
        "outputId": "af60fe09-f1c7-4661-f15d-44f3f5bcffd3"
      },
      "outputs": [
        {
          "data": {
            "image/png": "[encoded data removed]",
            "text/plain": [
              "<Figure size 640x480 with 1 Axes>"
            ]
          },
          "metadata": {},
          "output_type": "display_data"
        },
        {
          "data": {
            "image/png": "[encoded data removed]",
            "text/plain": [
              "<Figure size 640x480 with 1 Axes>"
            ]
          },
          "metadata": {},
          "output_type": "display_data"
        }
      ],
      "source": [
        "import matplotlib.pyplot as plt\n",
        "\n",
        "acc = history.history['accuracy']\n",
        "val_acc = history.history['val_accuracy']\n",
        "loss = history.history['loss']\n",
        "val_loss = history.history['val_loss']\n",
        "\n",
        "epochs = range(1, len(acc) + 1)\n",
        "\n",
        "plt.plot(epochs, acc, 'bo', label='Training acc')\n",
        "plt.plot(epochs, val_acc, 'b', label='Validation acc')\n",
        "plt.title('Training and validation accuracy')\n",
        "plt.xlabel('Epoch')\n",
        "plt.ylabel('Accuracy')\n",
        "plt.legend()\n",
        "\n",
        "plt.figure()\n",
        "\n",
        "plt.plot(epochs, loss, 'bo', label='Training loss')\n",
        "plt.plot(epochs, val_loss, 'b', label='Validation loss')\n",
        "plt.title('Training and validation loss')\n",
        "plt.xlabel('Epoch')\n",
        "plt.ylabel('Loss')\n",
        "plt.legend()\n",
        "\n",
        "plt.show()\n"
      ]
    },
    {
      "cell_type": "markdown",
      "metadata": {
        "id": "kUZ5rjwmEduI"
      },
      "source": [
        "## MODEL PREDICTION TEST"
      ]
    },
    {
      "cell_type": "code",
      "execution_count": 207,
      "metadata": {
        "colab": {
          "base_uri": "https://localhost:8080/",
          "height": 626
        },
        "id": "SYCDCLY_EcgB",
        "outputId": "7c2ea6a7-83e0-40ad-e6b4-b08a1b096554"
      },
      "outputs": [
        {
          "data": {
            "text/html": [
              "\n",
              "     <input type=\"file\" id=\"files-0e62c7b5-8016-4cfb-9183-d294ca9f7ae0\" name=\"files[]\" multiple disabled\n",
              "        style=\"border:none\" />\n",
              "     <output id=\"result-0e62c7b5-8016-4cfb-9183-d294ca9f7ae0\">\n",
              "      Upload widget is only available when the cell has been executed in the\n",
              "      current browser session. Please rerun this cell to enable.\n",
              "      </output>\n",
              "      <script>// Copyright 2017 Google LLC\n",
              "//\n",
              "// Licensed under the Apache License, Version 2.0 (the \"License\");\n",
              "// you may not use this file except in compliance with the License.\n",
              "// You may obtain a copy of the License at\n",
              "//\n",
              "//      http://www.apache.org/licenses/LICENSE-2.0\n",
              "//\n",
              "// Unless required by applicable law or agreed to in writing, software\n",
              "// distributed under the License is distributed on an \"AS IS\" BASIS,\n",
              "// WITHOUT WARRANTIES OR CONDITIONS OF ANY KIND, either express or implied.\n",
              "// See the License for the specific language governing permissions and\n",
              "// limitations under the License.\n",
              "\n",
              "/**\n",
              " * @fileoverview Helpers for google.colab Python module.\n",
              " */\n",
              "(function(scope) {\n",
              "function span(text, styleAttributes = {}) {\n",
              "  const element = document.createElement('span');\n",
              "  element.textContent = text;\n",
              "  for (const key of Object.keys(styleAttributes)) {\n",
              "    element.style[key] = styleAttributes[key];\n",
              "  }\n",
              "  return element;\n",
              "}\n",
              "\n",
              "// Max number of bytes which will be uploaded at a time.\n",
              "const MAX_PAYLOAD_SIZE = 100 * 1024;\n",
              "\n",
              "function _uploadFiles(inputId, outputId) {\n",
              "  const steps = uploadFilesStep(inputId, outputId);\n",
              "  const outputElement = document.getElementById(outputId);\n",
              "  // Cache steps on the outputElement to make it available for the next call\n",
              "  // to uploadFilesContinue from Python.\n",
              "  outputElement.steps = steps;\n",
              "\n",
              "  return _uploadFilesContinue(outputId);\n",
              "}\n",
              "\n",
              "// This is roughly an async generator (not supported in the browser yet),\n",
              "// where there are multiple asynchronous steps and the Python side is going\n",
              "// to poll for completion of each step.\n",
              "// This uses a Promise to block the python side on completion of each step,\n",
              "// then passes the result of the previous step as the input to the next step.\n",
              "function _uploadFilesContinue(outputId) {\n",
              "  const outputElement = document.getElementById(outputId);\n",
              "  const steps = outputElement.steps;\n",
              "\n",
              "  const next = steps.next(outputElement.lastPromiseValue);\n",
              "  return Promise.resolve(next.value.promise).then((value) => {\n",
              "    // Cache the last promise value to make it available to the next\n",
              "    // step of the generator.\n",
              "    outputElement.lastPromiseValue = value;\n",
              "    return next.value.response;\n",
              "  });\n",
              "}\n",
              "\n",
              "/**\n",
              " * Generator function which is called between each async step of the upload\n",
              " * process.\n",
              " * @param {string} inputId Element ID of the input file picker element.\n",
              " * @param {string} outputId Element ID of the output display.\n",
              " * @return {!Iterable<!Object>} Iterable of next steps.\n",
              " */\n",
              "function* uploadFilesStep(inputId, outputId) {\n",
              "  const inputElement = document.getElementById(inputId);\n",
              "  inputElement.disabled = false;\n",
              "\n",
              "  const outputElement = document.getElementById(outputId);\n",
              "  outputElement.innerHTML = '';\n",
              "\n",
              "  const pickedPromise = new Promise((resolve) => {\n",
              "    inputElement.addEventListener('change', (e) => {\n",
              "      resolve(e.target.files);\n",
              "    });\n",
              "  });\n",
              "\n",
              "  const cancel = document.createElement('button');\n",
              "  inputElement.parentElement.appendChild(cancel);\n",
              "  cancel.textContent = 'Cancel upload';\n",
              "  const cancelPromise = new Promise((resolve) => {\n",
              "    cancel.onclick = () => {\n",
              "      resolve(null);\n",
              "    };\n",
              "  });\n",
              "\n",
              "  // Wait for the user to pick the files.\n",
              "  const files = yield {\n",
              "    promise: Promise.race([pickedPromise, cancelPromise]),\n",
              "    response: {\n",
              "      action: 'starting',\n",
              "    }\n",
              "  };\n",
              "\n",
              "  cancel.remove();\n",
              "\n",
              "  // Disable the input element since further picks are not allowed.\n",
              "  inputElement.disabled = true;\n",
              "\n",
              "  if (!files) {\n",
              "    return {\n",
              "      response: {\n",
              "        action: 'complete',\n",
              "      }\n",
              "    };\n",
              "  }\n",
              "\n",
              "  for (const file of files) {\n",
              "    const li = document.createElement('li');\n",
              "    li.append(span(file.name, {fontWeight: 'bold'}));\n",
              "    li.append(span(\n",
              "        `(${file.type || 'n/a'}) - ${file.size} bytes, ` +\n",
              "        `last modified: ${\n",
              "            file.lastModifiedDate ? file.lastModifiedDate.toLocaleDateString() :\n",
              "                                    'n/a'} - `));\n",
              "    const percent = span('0% done');\n",
              "    li.appendChild(percent);\n",
              "\n",
              "    outputElement.appendChild(li);\n",
              "\n",
              "    const fileDataPromise = new Promise((resolve) => {\n",
              "      const reader = new FileReader();\n",
              "      reader.onload = (e) => {\n",
              "        resolve(e.target.result);\n",
              "      };\n",
              "      reader.readAsArrayBuffer(file);\n",
              "    });\n",
              "    // Wait for the data to be ready.\n",
              "    let fileData = yield {\n",
              "      promise: fileDataPromise,\n",
              "      response: {\n",
              "        action: 'continue',\n",
              "      }\n",
              "    };\n",
              "\n",
              "    // Use a chunked sending to avoid message size limits. See b/62115660.\n",
              "    let position = 0;\n",
              "    do {\n",
              "      const length = Math.min(fileData.byteLength - position, MAX_PAYLOAD_SIZE);\n",
              "      const chunk = new Uint8Array(fileData, position, length);\n",
              "      position += length;\n",
              "\n",
              "      const base64 = btoa(String.fromCharCode.apply(null, chunk));\n",
              "      yield {\n",
              "        response: {\n",
              "          action: 'append',\n",
              "          file: file.name,\n",
              "          data: base64,\n",
              "        },\n",
              "      };\n",
              "\n",
              "      let percentDone = fileData.byteLength === 0 ?\n",
              "          100 :\n",
              "          Math.round((position / fileData.byteLength) * 100);\n",
              "      percent.textContent = `${percentDone}% done`;\n",
              "\n",
              "    } while (position < fileData.byteLength);\n",
              "  }\n",
              "\n",
              "  // All done.\n",
              "  yield {\n",
              "    response: {\n",
              "      action: 'complete',\n",
              "    }\n",
              "  };\n",
              "}\n",
              "\n",
              "scope.google = scope.google || {};\n",
              "scope.google.colab = scope.google.colab || {};\n",
              "scope.google.colab._files = {\n",
              "  _uploadFiles,\n",
              "  _uploadFilesContinue,\n",
              "};\n",
              "})(self);\n",
              "</script> "
            ],
            "text/plain": [
              "<IPython.core.display.HTML object>"
            ]
          },
          "metadata": {},
          "output_type": "display_data"
        },
        {
          "name": "stdout",
          "output_type": "stream",
          "text": [
            "Saving WhatsApp_Image_2024-06-23_at_19.29.12_e87eb0e3-transformed.png to WhatsApp_Image_2024-06-23_at_19.29.12_e87eb0e3-transformed (5).png\n"
          ]
        },
        {
          "data": {
            "image/png": "[encoded data removed]",
            "text/plain": [
              "<Figure size 640x480 with 1 Axes>"
            ]
          },
          "metadata": {},
          "output_type": "display_data"
        },
        {
          "name": "stdout",
          "output_type": "stream",
          "text": [
            "1/1 [==============================] - 0s 35ms/step\n",
            "\n",
            "The image is detected as: Scissors\n",
            "\n",
            "   Class  Probability\n",
            "   Paper     0.000001\n",
            "    Rock     0.000000\n",
            "Scissors     1.000000 \n",
            "\n"
          ]
        }
      ],
      "source": [
        "import numpy as np\n",
        "import pandas as pd\n",
        "from tensorflow.keras.preprocessing import image\n",
        "import matplotlib.pyplot as plt\n",
        "from google.colab import files\n",
        "\n",
        "def preprocess_image(image_upload, target_size=(150, 150)):\n",
        "    img = image.load_img(image_upload, target_size=target_size)\n",
        "    img_array = image.img_to_array(img)\n",
        "    img_array = img_array / 255.0\n",
        "    img_array = np.expand_dims(img_array, axis=0)\n",
        "    return img, img_array\n",
        "\n",
        "def predict_image(img_array, model):\n",
        "    predictions = model.predict(img_array)[0]\n",
        "    labels = ['Paper', 'Rock', 'Scissors']\n",
        "    predicted_label = labels[np.argmax(predictions)]\n",
        "\n",
        "    df = pd.DataFrame({\n",
        "        'Class': labels,\n",
        "        'Probability': predictions\n",
        "        })\n",
        "\n",
        "    return predicted_label, df\n",
        "\n",
        "uploaded = files.upload()\n",
        "\n",
        "for file_name in uploaded.keys():\n",
        "    img_path = file_name\n",
        "    img, img_array = preprocess_image(img_path)\n",
        "\n",
        "    plt.imshow(img)\n",
        "    plt.axis('off')\n",
        "    plt.show()\n",
        "\n",
        "    label, df = predict_image(img_array, model)\n",
        "\n",
        "    print(f\"\\nThe image is detected as: {label}\\n\")\n",
        "    print(df.to_string(index=False, float_format=\"{:.6f}\".format), \"\\n\")"
      ]
    }
  ],
  "metadata": {
    "colab": {
      "provenance": []
    },
    "kernelspec": {
      "display_name": "Python 3",
      "name": "python3"
    },
    "language_info": {
      "codemirror_mode": {
        "name": "ipython",
        "version": 3
      },
      "file_extension": ".py",
      "mimetype": "text/x-python",
      "name": "python",
      "nbconvert_exporter": "python",
      "pygments_lexer": "ipython3",
      "version": "3.11.2"
    }
  },
  "nbformat": 4,
  "nbformat_minor": 0
}
